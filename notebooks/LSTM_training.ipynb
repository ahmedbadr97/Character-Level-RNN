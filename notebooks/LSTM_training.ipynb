{
 "cells": [
  {
   "cell_type": "markdown",
   "source": [
    "# Tasks\n",
    "1. load text data from the book text file\n",
    "2. prepare the data for training\n",
    "    - hot-encode the characters\n",
    "    - create data loader for training (split the data into (batch,sequences) for input and target)\n",
    "3. create the LSTM model\n",
    "4. training\n",
    "5. testing"
   ],
   "metadata": {
    "collapsed": false,
    "pycharm": {
     "name": "#%% md\n"
    }
   }
  },
  {
   "cell_type": "markdown",
   "source": [
    "# Import libraries and define constants"
   ],
   "metadata": {
    "collapsed": false
   }
  },
  {
   "cell_type": "code",
   "execution_count": 41,
   "outputs": [],
   "source": [
    "import pandas as pd\n",
    "\n",
    "import helper\n",
    "from src import *\n",
    "import random\n",
    "from torch.utils.data import DataLoader\n",
    "import torch\n",
    "import traintracker\n",
    "import pandas as ps\n",
    "import matplotlib.pyplot as plt\n"
   ],
   "metadata": {
    "collapsed": false,
    "pycharm": {
     "name": "#%%\n"
    }
   }
  },
  {
   "cell_type": "code",
   "execution_count": 40,
   "outputs": [],
   "source": [
    "dataset_path = \"../dataset\"\n",
    "text_file_name = \"anna.txt\"\n",
    "weights_path=\"../model_weights\"\n",
    "train_data_path=\"../train_data\"\n",
    "train_on_gpu=False"
   ],
   "metadata": {
    "collapsed": false,
    "pycharm": {
     "name": "#%%\n"
    }
   }
  },
  {
   "cell_type": "markdown",
   "source": [],
   "metadata": {
    "collapsed": false,
    "pycharm": {
     "name": "#%% md\n"
    }
   }
  },
  {
   "cell_type": "markdown",
   "source": [
    "# Load Data"
   ],
   "metadata": {
    "collapsed": false,
    "pycharm": {
     "name": "#%% md\n"
    }
   }
  },
  {
   "cell_type": "code",
   "execution_count": 4,
   "outputs": [],
   "source": [
    "with open(dataset_path + \"/\" + text_file_name, 'r') as txt_file:\n",
    "    txt = txt_file.read()"
   ],
   "metadata": {
    "collapsed": false,
    "pycharm": {
     "name": "#%%\n"
    }
   }
  },
  {
   "cell_type": "code",
   "execution_count": 5,
   "outputs": [
    {
     "data": {
      "text/plain": "'Chapter 1\\n\\n\\nHappy families are all alike; every unhappy family is unhappy in its own\\nway.\\n\\nEverythin'"
     },
     "execution_count": 5,
     "metadata": {},
     "output_type": "execute_result"
    }
   ],
   "source": [
    "txt[:100]"
   ],
   "metadata": {
    "collapsed": false,
    "pycharm": {
     "name": "#%%\n"
    }
   }
  },
  {
   "cell_type": "code",
   "execution_count": 6,
   "outputs": [],
   "source": [
    "chars = set(txt)\n",
    "chars=list(chars)\n",
    "chars=sorted(chars)\n",
    "# sort them to make sure that everytime i load the dataset and extract the characters from it to be with the same order for encoding and decoding\n",
    "helper.save_dict_to_json(dataset_path + \"\\chars.json\", list(chars))"
   ],
   "metadata": {
    "collapsed": false,
    "pycharm": {
     "name": "#%%\n"
    }
   }
  },
  {
   "cell_type": "markdown",
   "source": [
    "## Testing Dataset class"
   ],
   "metadata": {
    "collapsed": false,
    "pycharm": {
     "name": "#%% md\n"
    }
   }
  },
  {
   "cell_type": "code",
   "execution_count": null,
   "outputs": [],
   "source": [
    "from IPython.core.display_functions import display\n",
    "\n",
    "for i in range(1000):\n",
    "    print(f\"test {i+1}\")\n",
    "    batch_Size=random.randint(1,10)\n",
    "    no_characters=random.randint(20,100)\n",
    "    seq_len=random.randint(1,10)\n",
    "    characters=\"\".join(random.choices(list(chars),k=no_characters))\n",
    "    data_loader_test(characters,batch_size=batch_Size,seq_length=seq_len)\n",
    "    print()\n",
    "display(\"all test cases passed\")"
   ],
   "metadata": {
    "collapsed": false,
    "pycharm": {
     "name": "#%%\n",
     "is_executing": true
    }
   }
  },
  {
   "cell_type": "markdown",
   "source": [
    "# Train and test dataset"
   ],
   "metadata": {
    "collapsed": false,
    "pycharm": {
     "name": "#%% md\n"
    }
   }
  },
  {
   "cell_type": "markdown",
   "source": [
    "## Data split"
   ],
   "metadata": {
    "collapsed": false,
    "pycharm": {
     "name": "#%% md\n"
    }
   }
  },
  {
   "cell_type": "code",
   "execution_count": 7,
   "outputs": [],
   "source": [],
   "metadata": {
    "collapsed": false,
    "pycharm": {
     "name": "#%%\n"
    }
   }
  },
  {
   "cell_type": "code",
   "execution_count": 25,
   "outputs": [],
   "source": [
    "test_percentage=0.25\n",
    "train_size=len(txt)-int(len(txt)*test_percentage)\n",
    "train_text=txt[:train_size]\n",
    "test_text=txt[train_size:]"
   ],
   "metadata": {
    "collapsed": false,
    "pycharm": {
     "name": "#%%\n"
    }
   }
  },
  {
   "cell_type": "markdown",
   "source": [
    "## train and test loaders"
   ],
   "metadata": {
    "collapsed": false,
    "pycharm": {
     "name": "#%% md\n"
    }
   }
  },
  {
   "cell_type": "code",
   "execution_count": 26,
   "outputs": [],
   "source": [
    "batch_Size=128\n",
    "seq_len=100"
   ],
   "metadata": {
    "collapsed": false,
    "pycharm": {
     "name": "#%%\n"
    }
   }
  },
  {
   "cell_type": "code",
   "execution_count": 27,
   "outputs": [
    {
     "name": "stdout",
     "output_type": "stream",
     "text": [
      "converting characters to numbers ....\n",
      "Done\n",
      "converting characters to numbers ....\n",
      "Done\n"
     ]
    }
   ],
   "source": [
    "train_dataset=CharsDataset(chars,train_text,seq_length=seq_len)\n",
    "test_dataset=CharsDataset(chars,test_text,seq_length=seq_len)\n",
    "\n",
    "train_loader=DataLoader(train_dataset,batch_size=batch_Size,drop_last=True)\n",
    "test_loader=DataLoader(test_dataset,batch_size=batch_Size,drop_last=True)"
   ],
   "metadata": {
    "collapsed": false,
    "pycharm": {
     "name": "#%%\n"
    }
   }
  },
  {
   "cell_type": "markdown",
   "source": [
    "## testing the train loaders"
   ],
   "metadata": {
    "collapsed": false,
    "pycharm": {
     "name": "#%% md\n"
    }
   }
  },
  {
   "cell_type": "code",
   "execution_count": 28,
   "outputs": [
    {
     "name": "stdout",
     "output_type": "stream",
     "text": [
      "data loader\n",
      "Chapter 1\n",
      "\n",
      "\n",
      "Happy families are all alike; every unhappy family is unhappy in its own\n",
      "way.\n",
      "\n",
      "Everything was in confusion in the Oblonskys' house. The wife had\n",
      "discovered that the husband was carrying on an intrigue with a French\n",
      "girl, who had been a governess in their family, and she had announced to\n",
      "her husband that she could not go on living in the same house with him.\n",
      "This position of affairs had now lasted three days, and not only the\n",
      "husband and wife themselves, but all the members of their f\n",
      "Actual\n",
      "Chapter 1\n",
      "\n",
      "\n",
      "Happy families are all alike; every unhappy family is unhappy in its own\n",
      "way.\n",
      "\n",
      "Everything was in confusion in the Oblonskys' house. The wife had\n",
      "discovered that the husband was carrying on an intrigue with a French\n",
      "girl, who had been a governess in their family, and she had announced to\n",
      "her husband that she could not go on living in the same house with him.\n",
      "This position of affairs had now lasted three days, and not only the\n",
      "husband and wife themselves, but all the members of their f\n",
      "\n",
      "\n",
      "\n",
      " labels\n",
      "hapter 1\n",
      "\n",
      "\n",
      "Happy families are all alike; every unhappy family is unhappy in its own\n",
      "way.\n",
      "\n",
      "Everything was in confusion in the Oblonskys' house. The wife had\n",
      "discovered that the husband was carrying on an intrigue with a French\n",
      "girl, who had been a governess in their family, and she had announced to\n",
      "her husband that she could not go on living in the same house with him.\n",
      "This position of affairs had now lasted three days, and not only the\n",
      "husband and wife themselves, but all the members of their fa\n",
      "Actual\n",
      "hapter 1\n",
      "\n",
      "\n",
      "Happy families are all alike; every unhappy family is unhappy in its own\n",
      "way.\n",
      "\n",
      "Everything was in confusion in the Oblonskys' house. The wife had\n",
      "discovered that the husband was carrying on an intrigue with a French\n",
      "girl, who had been a governess in their family, and she had announced to\n",
      "her husband that she could not go on living in the same house with him.\n",
      "This position of affairs had now lasted three days, and not only the\n",
      "husband and wife themselves, but all the members of their fa\n",
      "\n",
      "-----------Test passed----------------\n"
     ]
    }
   ],
   "source": [
    "train_data_text=[]\n",
    "train_labels_text=[]\n",
    "train_itr=iter(train_dataset)\n",
    "no_iterations=5\n",
    "for i in range(no_iterations):\n",
    "  data,label=next(train_itr)\n",
    "  for j in range(seq_len):\n",
    "      char_idx=torch.argmax(data[j]).item()\n",
    "      char=train_dataset.int_to_chars[char_idx]\n",
    "      train_data_text.append(char)\n",
    "\n",
    "      char_idx=label[j].item()\n",
    "      char=train_dataset.int_to_chars[char_idx]\n",
    "      train_labels_text.append(char)\n",
    "\n",
    "train_data_text=\"\".join(train_data_text)\n",
    "train_labels_text=\"\".join(train_labels_text)\n",
    "\n",
    "assert train_data_text==txt[:no_iterations*seq_len]\n",
    "assert train_labels_text==txt[1:(no_iterations*seq_len)+1]\n",
    "\n",
    "print(\"data loader\")\n",
    "print(train_data_text)\n",
    "print(\"Actual\")\n",
    "print(txt[:no_iterations*seq_len])\n",
    "print(\"\\n\\n\")\n",
    "print(\" labels\")\n",
    "print(train_labels_text)\n",
    "print(\"Actual\")\n",
    "print(txt[1:(no_iterations*seq_len)+1])\n",
    "print(\"\\n-----------Test passed----------------\")"
   ],
   "metadata": {
    "collapsed": false,
    "pycharm": {
     "name": "#%%\n"
    }
   }
  },
  {
   "cell_type": "code",
   "execution_count": 29,
   "outputs": [
    {
     "data": {
      "text/plain": "'sequence_length:100 , no_sequences 14889 , no_chars 83'"
     },
     "execution_count": 29,
     "metadata": {},
     "output_type": "execute_result"
    }
   ],
   "source": [
    "str(train_dataset)"
   ],
   "metadata": {
    "collapsed": false,
    "pycharm": {
     "name": "#%%\n"
    }
   }
  },
  {
   "cell_type": "code",
   "execution_count": 30,
   "outputs": [
    {
     "name": "stdout",
     "output_type": "stream",
     "text": [
      "data shape torch.Size([128, 100, 83]) \n",
      "labels shape torch.Size([128, 100])\n"
     ]
    }
   ],
   "source": [
    "test_itr=iter(train_loader)\n",
    "data,labels=next(test_itr)\n",
    "print(f\"data shape {data.shape} \\nlabels shape {labels.shape}\")\n"
   ],
   "metadata": {
    "collapsed": false,
    "pycharm": {
     "name": "#%%\n"
    }
   }
  },
  {
   "cell_type": "markdown",
   "source": [
    "# Create  model"
   ],
   "metadata": {
    "collapsed": false,
    "pycharm": {
     "name": "#%% md\n"
    }
   }
  },
  {
   "cell_type": "code",
   "execution_count": 31,
   "outputs": [
    {
     "data": {
      "text/plain": "'CharsRnn(\\n  (lstm): LSTM(83, 512, num_layers=2, batch_first=True, dropout=0.5)\\n  (dropout): Dropout(p=0.5, inplace=False)\\n  (fc): Linear(in_features=512, out_features=83, bias=True)\\n)'"
     },
     "execution_count": 31,
     "metadata": {},
     "output_type": "execute_result"
    }
   ],
   "source": [
    "traintracker.last_saved_hyperparameters(train_data_path)['model architecture']"
   ],
   "metadata": {
    "collapsed": false,
    "pycharm": {
     "name": "#%%\n"
    }
   }
  },
  {
   "cell_type": "code",
   "execution_count": 32,
   "outputs": [],
   "source": [
    "hidden_layers=2\n",
    "hidden_nodes=512"
   ],
   "metadata": {
    "collapsed": false,
    "pycharm": {
     "name": "#%%\n"
    }
   }
  },
  {
   "cell_type": "code",
   "execution_count": 33,
   "outputs": [],
   "source": [
    "# hidden nodes by default 2* input size which is no of characters exits\n",
    "charsRnn=CharsRnn(chars=chars,hidden_nodes=hidden_nodes,hidden_layers=hidden_layers,train_on_gpu=train_on_gpu)"
   ],
   "metadata": {
    "collapsed": false,
    "pycharm": {
     "name": "#%%\n"
    }
   }
  },
  {
   "cell_type": "code",
   "execution_count": 34,
   "outputs": [
    {
     "name": "stdout",
     "output_type": "stream",
     "text": [
      "CharsRnn(\n",
      "  (lstm): LSTM(83, 512, num_layers=2, batch_first=True, dropout=0.5)\n",
      "  (dropout): Dropout(p=0.5, inplace=False)\n",
      "  (fc): Linear(in_features=512, out_features=83, bias=True)\n",
      ")\n"
     ]
    }
   ],
   "source": [
    "print(charsRnn)"
   ],
   "metadata": {
    "collapsed": false,
    "pycharm": {
     "name": "#%%\n"
    }
   }
  },
  {
   "cell_type": "code",
   "execution_count": 35,
   "outputs": [],
   "source": [
    "# loading past weights\n",
    "charsRnn.load_weights(traintracker.latest_weights_path(weights_path),cuda_weights=True)"
   ],
   "metadata": {
    "collapsed": false,
    "pycharm": {
     "name": "#%%\n"
    }
   }
  },
  {
   "cell_type": "markdown",
   "source": [
    "## checking the input and output shapes"
   ],
   "metadata": {
    "collapsed": false,
    "pycharm": {
     "name": "#%% md\n"
    }
   }
  },
  {
   "cell_type": "code",
   "execution_count": 36,
   "outputs": [
    {
     "name": "stdout",
     "output_type": "stream",
     "text": [
      "out shape torch.Size([12800, 83]) \n",
      "hidden shape torch.Size([2, 128, 512])\n",
      "labels shape torch.Size([12800])\n"
     ]
    }
   ],
   "source": [
    "lstm_hidden=charsRnn.init_hidden(batch_size=batch_Size)\n",
    "if train_on_gpu:\n",
    "    data=data.cuda()\n",
    "out,hidden=charsRnn(data,lstm_hidden)\n",
    "print(f\"out shape {out.shape} \\nhidden shape {hidden[0].shape}\\nlabels shape {labels.view(train_dataset.seq_length*batch_Size).shape}\")"
   ],
   "metadata": {
    "collapsed": false,
    "pycharm": {
     "name": "#%%\n"
    }
   }
  },
  {
   "cell_type": "markdown",
   "source": [
    "# Model training"
   ],
   "metadata": {
    "collapsed": false,
    "pycharm": {
     "name": "#%% md\n"
    }
   }
  },
  {
   "cell_type": "code",
   "execution_count": null,
   "outputs": [],
   "source": [
    "train_losses,test_losses=train(model=charsRnn,train_loader=train_loader,test_loader=test_loader,lr=0.001,epochs=2,cuda=train_on_gpu,weight_saving_path=weights_path,train_data_save_path=train_data_path)"
   ],
   "metadata": {
    "collapsed": false,
    "pycharm": {
     "name": "#%%\n",
     "is_executing": true
    }
   }
  },
  {
   "cell_type": "markdown",
   "source": [
    "## Training History"
   ],
   "metadata": {
    "collapsed": false,
    "pycharm": {
     "name": "#%% md\n"
    }
   }
  },
  {
   "cell_type": "markdown",
   "source": [
    "### train and validation loss"
   ],
   "metadata": {
    "collapsed": false,
    "pycharm": {
     "name": "#%% md\n"
    }
   }
  },
  {
   "cell_type": "code",
   "execution_count": 62,
   "outputs": [
    {
     "data": {
      "text/plain": "    Train Loss  no train rows  Test Loss  No test rows  Time taken (M)  \\\n0     3.158286          14889   3.122993          4963            0.36   \n1     3.120990          14889   3.121842          4963            0.28   \n2     3.548473          14889   3.101743          4963            0.52   \n3     2.596162          14889   2.072082          4963            0.51   \n4     1.931265          14889   1.681509          4963            0.48   \n5     1.690720          14889   1.534656          4963            0.48   \n6     1.579379          14889   1.458783          4963            0.48   \n7     1.511123          14889   1.414503          4963            0.48   \n8     1.465642          14889   1.382609          4963            0.48   \n9     1.432888          14889   1.363819          4963            0.48   \n10    1.406864          14889   1.345403          4963            0.48   \n11    1.385781          14889   1.331977          4963            0.48   \n12    1.367879          14889   1.323819          4963            0.48   \n13    1.331694          14889   1.303100          4963            0.52   \n14    1.318402          14889   1.299233          4963            0.48   \n15    1.311786          14889   1.296298          4963            0.48   \n16    1.307108          14889   1.293903          4963            0.48   \n17    1.302683          14889   1.291991          4963            0.50   \n18    1.299194          14889   1.290148          4963            0.50   \n19    1.295664          14889   1.288345          4963            0.48   \n20    1.292678          14889   1.286620          4963            0.50   \n21    1.289129          14889   1.285445          4963            0.50   \n22    1.286200          14889   1.283663          4963            0.50   \n\n         Date      Time  \n0   8/10/2022  18:04:00  \n1   8/10/2022  18:04:00  \n2   8/10/2022  18:05:00  \n3   8/10/2022  18:09:00  \n4   8/10/2022  18:09:00  \n5   8/10/2022  18:09:00  \n6   8/10/2022  18:09:00  \n7   8/10/2022  18:10:00  \n8   8/10/2022  18:10:00  \n9   8/10/2022  18:10:00  \n10  8/10/2022  18:10:00  \n11  8/10/2022  18:11:00  \n12  8/10/2022  18:11:00  \n13  8/10/2022  18:12:00  \n14  8/10/2022  18:12:00  \n15  8/10/2022  18:12:00  \n16  8/10/2022  18:12:00  \n17  8/10/2022  18:12:00  \n18  8/10/2022  18:13:00  \n19  8/10/2022  18:13:00  \n20  8/10/2022  18:13:00  \n21  8/10/2022  18:13:00  \n22  8/10/2022  18:14:00  ",
      "text/html": "<div>\n<style scoped>\n    .dataframe tbody tr th:only-of-type {\n        vertical-align: middle;\n    }\n\n    .dataframe tbody tr th {\n        vertical-align: top;\n    }\n\n    .dataframe thead th {\n        text-align: right;\n    }\n</style>\n<table border=\"1\" class=\"dataframe\">\n  <thead>\n    <tr style=\"text-align: right;\">\n      <th></th>\n      <th>Train Loss</th>\n      <th>no train rows</th>\n      <th>Test Loss</th>\n      <th>No test rows</th>\n      <th>Time taken (M)</th>\n      <th>Date</th>\n      <th>Time</th>\n    </tr>\n  </thead>\n  <tbody>\n    <tr>\n      <th>0</th>\n      <td>3.158286</td>\n      <td>14889</td>\n      <td>3.122993</td>\n      <td>4963</td>\n      <td>0.36</td>\n      <td>8/10/2022</td>\n      <td>18:04:00</td>\n    </tr>\n    <tr>\n      <th>1</th>\n      <td>3.120990</td>\n      <td>14889</td>\n      <td>3.121842</td>\n      <td>4963</td>\n      <td>0.28</td>\n      <td>8/10/2022</td>\n      <td>18:04:00</td>\n    </tr>\n    <tr>\n      <th>2</th>\n      <td>3.548473</td>\n      <td>14889</td>\n      <td>3.101743</td>\n      <td>4963</td>\n      <td>0.52</td>\n      <td>8/10/2022</td>\n      <td>18:05:00</td>\n    </tr>\n    <tr>\n      <th>3</th>\n      <td>2.596162</td>\n      <td>14889</td>\n      <td>2.072082</td>\n      <td>4963</td>\n      <td>0.51</td>\n      <td>8/10/2022</td>\n      <td>18:09:00</td>\n    </tr>\n    <tr>\n      <th>4</th>\n      <td>1.931265</td>\n      <td>14889</td>\n      <td>1.681509</td>\n      <td>4963</td>\n      <td>0.48</td>\n      <td>8/10/2022</td>\n      <td>18:09:00</td>\n    </tr>\n    <tr>\n      <th>5</th>\n      <td>1.690720</td>\n      <td>14889</td>\n      <td>1.534656</td>\n      <td>4963</td>\n      <td>0.48</td>\n      <td>8/10/2022</td>\n      <td>18:09:00</td>\n    </tr>\n    <tr>\n      <th>6</th>\n      <td>1.579379</td>\n      <td>14889</td>\n      <td>1.458783</td>\n      <td>4963</td>\n      <td>0.48</td>\n      <td>8/10/2022</td>\n      <td>18:09:00</td>\n    </tr>\n    <tr>\n      <th>7</th>\n      <td>1.511123</td>\n      <td>14889</td>\n      <td>1.414503</td>\n      <td>4963</td>\n      <td>0.48</td>\n      <td>8/10/2022</td>\n      <td>18:10:00</td>\n    </tr>\n    <tr>\n      <th>8</th>\n      <td>1.465642</td>\n      <td>14889</td>\n      <td>1.382609</td>\n      <td>4963</td>\n      <td>0.48</td>\n      <td>8/10/2022</td>\n      <td>18:10:00</td>\n    </tr>\n    <tr>\n      <th>9</th>\n      <td>1.432888</td>\n      <td>14889</td>\n      <td>1.363819</td>\n      <td>4963</td>\n      <td>0.48</td>\n      <td>8/10/2022</td>\n      <td>18:10:00</td>\n    </tr>\n    <tr>\n      <th>10</th>\n      <td>1.406864</td>\n      <td>14889</td>\n      <td>1.345403</td>\n      <td>4963</td>\n      <td>0.48</td>\n      <td>8/10/2022</td>\n      <td>18:10:00</td>\n    </tr>\n    <tr>\n      <th>11</th>\n      <td>1.385781</td>\n      <td>14889</td>\n      <td>1.331977</td>\n      <td>4963</td>\n      <td>0.48</td>\n      <td>8/10/2022</td>\n      <td>18:11:00</td>\n    </tr>\n    <tr>\n      <th>12</th>\n      <td>1.367879</td>\n      <td>14889</td>\n      <td>1.323819</td>\n      <td>4963</td>\n      <td>0.48</td>\n      <td>8/10/2022</td>\n      <td>18:11:00</td>\n    </tr>\n    <tr>\n      <th>13</th>\n      <td>1.331694</td>\n      <td>14889</td>\n      <td>1.303100</td>\n      <td>4963</td>\n      <td>0.52</td>\n      <td>8/10/2022</td>\n      <td>18:12:00</td>\n    </tr>\n    <tr>\n      <th>14</th>\n      <td>1.318402</td>\n      <td>14889</td>\n      <td>1.299233</td>\n      <td>4963</td>\n      <td>0.48</td>\n      <td>8/10/2022</td>\n      <td>18:12:00</td>\n    </tr>\n    <tr>\n      <th>15</th>\n      <td>1.311786</td>\n      <td>14889</td>\n      <td>1.296298</td>\n      <td>4963</td>\n      <td>0.48</td>\n      <td>8/10/2022</td>\n      <td>18:12:00</td>\n    </tr>\n    <tr>\n      <th>16</th>\n      <td>1.307108</td>\n      <td>14889</td>\n      <td>1.293903</td>\n      <td>4963</td>\n      <td>0.48</td>\n      <td>8/10/2022</td>\n      <td>18:12:00</td>\n    </tr>\n    <tr>\n      <th>17</th>\n      <td>1.302683</td>\n      <td>14889</td>\n      <td>1.291991</td>\n      <td>4963</td>\n      <td>0.50</td>\n      <td>8/10/2022</td>\n      <td>18:12:00</td>\n    </tr>\n    <tr>\n      <th>18</th>\n      <td>1.299194</td>\n      <td>14889</td>\n      <td>1.290148</td>\n      <td>4963</td>\n      <td>0.50</td>\n      <td>8/10/2022</td>\n      <td>18:13:00</td>\n    </tr>\n    <tr>\n      <th>19</th>\n      <td>1.295664</td>\n      <td>14889</td>\n      <td>1.288345</td>\n      <td>4963</td>\n      <td>0.48</td>\n      <td>8/10/2022</td>\n      <td>18:13:00</td>\n    </tr>\n    <tr>\n      <th>20</th>\n      <td>1.292678</td>\n      <td>14889</td>\n      <td>1.286620</td>\n      <td>4963</td>\n      <td>0.50</td>\n      <td>8/10/2022</td>\n      <td>18:13:00</td>\n    </tr>\n    <tr>\n      <th>21</th>\n      <td>1.289129</td>\n      <td>14889</td>\n      <td>1.285445</td>\n      <td>4963</td>\n      <td>0.50</td>\n      <td>8/10/2022</td>\n      <td>18:13:00</td>\n    </tr>\n    <tr>\n      <th>22</th>\n      <td>1.286200</td>\n      <td>14889</td>\n      <td>1.283663</td>\n      <td>4963</td>\n      <td>0.50</td>\n      <td>8/10/2022</td>\n      <td>18:14:00</td>\n    </tr>\n  </tbody>\n</table>\n</div>"
     },
     "execution_count": 62,
     "metadata": {},
     "output_type": "execute_result"
    }
   ],
   "source": [
    "df=pd.read_csv(f\"{train_data_path}/epochs_data.csv\",index_col=False)\n",
    "df"
   ],
   "metadata": {
    "collapsed": false,
    "pycharm": {
     "name": "#%%\n"
    }
   }
  },
  {
   "cell_type": "code",
   "execution_count": 63,
   "outputs": [
    {
     "data": {
      "text/plain": "<matplotlib.legend.Legend at 0x250b2f38700>"
     },
     "execution_count": 63,
     "metadata": {},
     "output_type": "execute_result"
    },
    {
     "data": {
      "text/plain": "<Figure size 432x288 with 1 Axes>",
      "image/png": "[encoded data removed]"
     },
     "metadata": {
      "needs_background": "light"
     },
     "output_type": "display_data"
    }
   ],
   "source": [
    "plt.plot(df['Train Loss'],label=\"Train loss\")\n",
    "plt.plot(df['Test Loss'],label=\"Test loss\")\n",
    "plt.legend(frameon=False)"
   ],
   "metadata": {
    "collapsed": false,
    "pycharm": {
     "name": "#%%\n"
    }
   }
  },
  {
   "cell_type": "markdown",
   "source": [
    "### Hyperparameters tuning during training"
   ],
   "metadata": {
    "collapsed": false,
    "pycharm": {
     "name": "#%% md\n"
    }
   }
  },
  {
   "cell_type": "code",
   "execution_count": 64,
   "outputs": [
    {
     "data": {
      "text/plain": "   epoch idx from                                 model architecture  \\\n0               1  CharsRnn(\\n  (lstm): LSTM(83, 256, num_layers=...   \n1               3  CharsRnn(\\n  (lstm): LSTM(83, 512, num_layers=...   \n2              14  CharsRnn(\\n  (lstm): LSTM(83, 512, num_layers=...   \n\n   train batch size       loss function  \\\n0               128  CrossEntropyLoss()   \n1               128  CrossEntropyLoss()   \n2               128  CrossEntropyLoss()   \n\n                                           optimizer changed hyperParameters  \\\n0  Adam (\\nParameter Group 0\\n    amsgrad: False\\...  ['model architecture']   \n1  Adam (\\nParameter Group 0\\n    amsgrad: False\\...  ['model architecture']   \n2  Adam (\\nParameter Group 0\\n    amsgrad: False\\...           ['optimizer']   \n\n   sequence length  \n0              100  \n1              100  \n2              100  ",
      "text/html": "<div>\n<style scoped>\n    .dataframe tbody tr th:only-of-type {\n        vertical-align: middle;\n    }\n\n    .dataframe tbody tr th {\n        vertical-align: top;\n    }\n\n    .dataframe thead th {\n        text-align: right;\n    }\n</style>\n<table border=\"1\" class=\"dataframe\">\n  <thead>\n    <tr style=\"text-align: right;\">\n      <th></th>\n      <th>epoch idx from</th>\n      <th>model architecture</th>\n      <th>train batch size</th>\n      <th>loss function</th>\n      <th>optimizer</th>\n      <th>changed hyperParameters</th>\n      <th>sequence length</th>\n    </tr>\n  </thead>\n  <tbody>\n    <tr>\n      <th>0</th>\n      <td>1</td>\n      <td>CharsRnn(\\n  (lstm): LSTM(83, 256, num_layers=...</td>\n      <td>128</td>\n      <td>CrossEntropyLoss()</td>\n      <td>Adam (\\nParameter Group 0\\n    amsgrad: False\\...</td>\n      <td>['model architecture']</td>\n      <td>100</td>\n    </tr>\n    <tr>\n      <th>1</th>\n      <td>3</td>\n      <td>CharsRnn(\\n  (lstm): LSTM(83, 512, num_layers=...</td>\n      <td>128</td>\n      <td>CrossEntropyLoss()</td>\n      <td>Adam (\\nParameter Group 0\\n    amsgrad: False\\...</td>\n      <td>['model architecture']</td>\n      <td>100</td>\n    </tr>\n    <tr>\n      <th>2</th>\n      <td>14</td>\n      <td>CharsRnn(\\n  (lstm): LSTM(83, 512, num_layers=...</td>\n      <td>128</td>\n      <td>CrossEntropyLoss()</td>\n      <td>Adam (\\nParameter Group 0\\n    amsgrad: False\\...</td>\n      <td>['optimizer']</td>\n      <td>100</td>\n    </tr>\n  </tbody>\n</table>\n</div>"
     },
     "execution_count": 64,
     "metadata": {},
     "output_type": "execute_result"
    }
   ],
   "source": [
    "df=pd.read_csv(f\"{train_data_path}/train_data.csv\",index_col=False)\n",
    "df"
   ],
   "metadata": {
    "collapsed": false,
    "pycharm": {
     "name": "#%%\n"
    }
   }
  },
  {
   "cell_type": "markdown",
   "source": [
    "# Generate Text"
   ],
   "metadata": {
    "collapsed": false,
    "pycharm": {
     "name": "#%% md\n"
    }
   }
  },
  {
   "cell_type": "code",
   "execution_count": 38,
   "outputs": [
    {
     "name": "stdout",
     "output_type": "stream",
     "text": [
      "marks with him.\n",
      "\n",
      "And that the second acquaintance of her could not the happiness of which he\n",
      "shook her. \"I do nothing to think about the possibility of her feelings and her at herself.\n",
      "This seemed to the man, who with his soul of the step his watch, she saw all he was set away.\n",
      "\n",
      "\"If\n",
      "the\n",
      "stalk of manners, to too happy, the carriage and that would be\n",
      "commanded, and\n",
      "tell me as they're the state. The humor was, he had such asking what was they've no look, there, a thought about it.\"\n",
      "\n",
      "\"Why, what do you must think it with the sound of her,\" the change which she would not be despair at the contrary\n",
      "word who had been answered,\n",
      "tried to be the man she had tears the prince shook himself without the steps was that he was dropped on a marsh, was at\n",
      "the considering her husband's shoulder.\n",
      "\n",
      "\"If it's but it, word at\n",
      "a look at horror, all the misery won't be the side of which he could not be come off into his father. This course. He saw that\n",
      "he had said to Levin. \"I will be changing him.\" And and having\n",
      "sa\n"
     ]
    }
   ],
   "source": [
    "print(charsRnn.predict_text(\"mark\",no_chars=1000))"
   ],
   "metadata": {
    "collapsed": false,
    "pycharm": {
     "name": "#%%\n"
    }
   }
  },
  {
   "cell_type": "code",
   "execution_count": null,
   "outputs": [],
   "source": [],
   "metadata": {
    "collapsed": false,
    "pycharm": {
     "name": "#%%\n"
    }
   }
  }
 ],
 "metadata": {
  "kernelspec": {
   "display_name": "Python 3",
   "language": "python",
   "name": "python3"
  },
  "language_info": {
   "codemirror_mode": {
    "name": "ipython",
    "version": 2
   },
   "file_extension": ".py",
   "mimetype": "text/x-python",
   "name": "python",
   "nbconvert_exporter": "python",
   "pygments_lexer": "ipython2",
   "version": "2.7.6"
  }
 },
 "nbformat": 4,
 "nbformat_minor": 0
}